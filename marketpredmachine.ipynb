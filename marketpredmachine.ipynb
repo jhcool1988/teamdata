{
  "nbformat": 4,
  "nbformat_minor": 0,
  "metadata": {
    "colab": {
      "name": "marketpredmachine.ipynb",
      "provenance": [],
      "authorship_tag": "ABX9TyOQ8HJ5vtv8PnQ2leHkoKjm",
      "include_colab_link": true
    },
    "kernelspec": {
      "name": "python3",
      "display_name": "Python 3"
    }
  },
  "cells": [
    {
      "cell_type": "markdown",
      "metadata": {
        "id": "view-in-github",
        "colab_type": "text"
      },
      "source": [
        "<a href=\"https://colab.research.google.com/github/jhcool1988/teamdata/blob/master/marketpredmachine.ipynb\" target=\"_parent\"><img src=\"https://colab.research.google.com/assets/colab-badge.svg\" alt=\"Open In Colab\"/></a>"
      ]
    },
    {
      "cell_type": "code",
      "metadata": {
        "id": "k5hVooIVJ4Lt",
        "colab_type": "code",
        "colab": {
          "base_uri": "https://localhost:8080/",
          "height": 289
        },
        "outputId": "8b4fd46a-8937-4903-f13e-08900f10348c"
      },
      "source": [
        "!pip3 install catboost"
      ],
      "execution_count": null,
      "outputs": [
        {
          "output_type": "stream",
          "text": [
            "Requirement already satisfied: catboost in /usr/local/lib/python3.6/dist-packages (0.24)\n",
            "Requirement already satisfied: numpy>=1.16.0 in /usr/local/lib/python3.6/dist-packages (from catboost) (1.18.5)\n",
            "Requirement already satisfied: pandas>=0.24.0 in /usr/local/lib/python3.6/dist-packages (from catboost) (1.0.5)\n",
            "Requirement already satisfied: plotly in /usr/local/lib/python3.6/dist-packages (from catboost) (4.4.1)\n",
            "Requirement already satisfied: matplotlib in /usr/local/lib/python3.6/dist-packages (from catboost) (3.2.2)\n",
            "Requirement already satisfied: graphviz in /usr/local/lib/python3.6/dist-packages (from catboost) (0.10.1)\n",
            "Requirement already satisfied: six in /usr/local/lib/python3.6/dist-packages (from catboost) (1.15.0)\n",
            "Requirement already satisfied: scipy in /usr/local/lib/python3.6/dist-packages (from catboost) (1.4.1)\n",
            "Requirement already satisfied: python-dateutil>=2.6.1 in /usr/local/lib/python3.6/dist-packages (from pandas>=0.24.0->catboost) (2.8.1)\n",
            "Requirement already satisfied: pytz>=2017.2 in /usr/local/lib/python3.6/dist-packages (from pandas>=0.24.0->catboost) (2018.9)\n",
            "Requirement already satisfied: retrying>=1.3.3 in /usr/local/lib/python3.6/dist-packages (from plotly->catboost) (1.3.3)\n",
            "Requirement already satisfied: cycler>=0.10 in /usr/local/lib/python3.6/dist-packages (from matplotlib->catboost) (0.10.0)\n",
            "Requirement already satisfied: pyparsing!=2.0.4,!=2.1.2,!=2.1.6,>=2.0.1 in /usr/local/lib/python3.6/dist-packages (from matplotlib->catboost) (2.4.7)\n",
            "Requirement already satisfied: kiwisolver>=1.0.1 in /usr/local/lib/python3.6/dist-packages (from matplotlib->catboost) (1.2.0)\n"
          ],
          "name": "stdout"
        }
      ]
    },
    {
      "cell_type": "code",
      "metadata": {
        "id": "FxCNMIR-IGdL",
        "colab_type": "code",
        "colab": {}
      },
      "source": [
        "#Installation of required libraries\n",
        "import numpy as np\n",
        "import pandas as pd\n",
        "import seaborn as sns\n",
        "from sklearn.model_selection import train_test_split, GridSearchCV\n",
        "from sklearn.metrics import mean_squared_error, r2_score\n",
        "import matplotlib.pyplot as plt\n",
        "from sklearn.preprocessing import scale\n",
        "from sklearn import model_selection\n",
        "from sklearn.linear_model import LinearRegression\n",
        "from sklearn.tree import DecisionTreeRegressor\n",
        "from sklearn.neighbors import KNeighborsRegressor\n",
        "from sklearn.neural_network import MLPRegressor\n",
        "from sklearn.ensemble import RandomForestRegressor\n",
        "from sklearn.ensemble import GradientBoostingRegressor\n",
        "from lightgbm import LGBMRegressor\n",
        "from xgboost import XGBRegressor\n",
        "from catboost import CatBoostRegressor\n",
        "from sklearn import neighbors\n",
        "from sklearn.svm import SVR\n",
        "from sklearn.model_selection import train_test_split, cross_val_score\n",
        "from sklearn.preprocessing import StandardScaler\n",
        "from sklearn import preprocessing"
      ],
      "execution_count": 23,
      "outputs": []
    },
    {
      "cell_type": "code",
      "metadata": {
        "id": "30yy-fawKING",
        "colab_type": "code",
        "colab": {
          "base_uri": "https://localhost:8080/",
          "height": 249
        },
        "outputId": "037ed80d-8698-48c9-ffc3-881e0927ff58"
      },
      "source": [
        "sal = pd.read_csv('https://raw.githubusercontent.com/jhcool1988/teamdata/master/soccerVFm.csv')\n",
        "sal.head(5)\n",
        "\n",
        "# 파운드 물가상승률 반영"
      ],
      "execution_count": 136,
      "outputs": [
        {
          "output_type": "execute_result",
          "data": {
            "text/html": [
              "<div>\n",
              "<style scoped>\n",
              "    .dataframe tbody tr th:only-of-type {\n",
              "        vertical-align: middle;\n",
              "    }\n",
              "\n",
              "    .dataframe tbody tr th {\n",
              "        vertical-align: top;\n",
              "    }\n",
              "\n",
              "    .dataframe thead th {\n",
              "        text-align: right;\n",
              "    }\n",
              "</style>\n",
              "<table border=\"1\" class=\"dataframe\">\n",
              "  <thead>\n",
              "    <tr style=\"text-align: right;\">\n",
              "      <th></th>\n",
              "      <th>playername</th>\n",
              "      <th>mvpr</th>\n",
              "      <th>marketvaluepound</th>\n",
              "      <th>season</th>\n",
              "      <th>age</th>\n",
              "      <th>lgrank</th>\n",
              "      <th>MP</th>\n",
              "      <th>starts</th>\n",
              "      <th>min</th>\n",
              "      <th>goal</th>\n",
              "      <th>assist</th>\n",
              "      <th>sh</th>\n",
              "      <th>sot</th>\n",
              "      <th>sotp</th>\n",
              "      <th>gsh</th>\n",
              "      <th>cmp</th>\n",
              "      <th>cmpp</th>\n",
              "      <th>crs</th>\n",
              "      <th>int</th>\n",
              "      <th>block</th>\n",
              "      <th>sca</th>\n",
              "      <th>passlive</th>\n",
              "      <th>drib</th>\n",
              "      <th>gca</th>\n",
              "      <th>gcapasslive</th>\n",
              "      <th>tkl</th>\n",
              "      <th>press</th>\n",
              "      <th>pressp</th>\n",
              "      <th>touches</th>\n",
              "      <th>succp</th>\n",
              "      <th>targ</th>\n",
              "      <th>rec</th>\n",
              "      <th>recp</th>\n",
              "      <th>miscon</th>\n",
              "      <th>fls</th>\n",
              "      <th>recov</th>\n",
              "      <th>aerialwonp</th>\n",
              "    </tr>\n",
              "  </thead>\n",
              "  <tbody>\n",
              "    <tr>\n",
              "      <th>0</th>\n",
              "      <td>Lionel Messi</td>\n",
              "      <td>1.538937e+08</td>\n",
              "      <td>162000000</td>\n",
              "      <td>2018</td>\n",
              "      <td>30</td>\n",
              "      <td>1</td>\n",
              "      <td>36</td>\n",
              "      <td>32</td>\n",
              "      <td>3002</td>\n",
              "      <td>34</td>\n",
              "      <td>12</td>\n",
              "      <td>194.0</td>\n",
              "      <td>92.0</td>\n",
              "      <td>47.4</td>\n",
              "      <td>2.00</td>\n",
              "      <td>1532</td>\n",
              "      <td>78.7</td>\n",
              "      <td>53</td>\n",
              "      <td>62</td>\n",
              "      <td>80.0</td>\n",
              "      <td>234</td>\n",
              "      <td>134</td>\n",
              "      <td>39</td>\n",
              "      <td>43</td>\n",
              "      <td>24</td>\n",
              "      <td>13</td>\n",
              "      <td>413</td>\n",
              "      <td>29.3</td>\n",
              "      <td>2447</td>\n",
              "      <td>71.9</td>\n",
              "      <td>2445</td>\n",
              "      <td>2051</td>\n",
              "      <td>83.9</td>\n",
              "      <td>62</td>\n",
              "      <td>17</td>\n",
              "      <td>150</td>\n",
              "      <td>38.5</td>\n",
              "    </tr>\n",
              "    <tr>\n",
              "      <th>1</th>\n",
              "      <td>Lionel Messi</td>\n",
              "      <td>9.239972e+07</td>\n",
              "      <td>100800000</td>\n",
              "      <td>2020</td>\n",
              "      <td>32</td>\n",
              "      <td>2</td>\n",
              "      <td>33</td>\n",
              "      <td>32</td>\n",
              "      <td>2880</td>\n",
              "      <td>25</td>\n",
              "      <td>20</td>\n",
              "      <td>154.0</td>\n",
              "      <td>63.0</td>\n",
              "      <td>40.9</td>\n",
              "      <td>5.00</td>\n",
              "      <td>1700</td>\n",
              "      <td>79.4</td>\n",
              "      <td>113</td>\n",
              "      <td>61</td>\n",
              "      <td>62.0</td>\n",
              "      <td>220</td>\n",
              "      <td>126</td>\n",
              "      <td>37</td>\n",
              "      <td>36</td>\n",
              "      <td>22</td>\n",
              "      <td>14</td>\n",
              "      <td>287</td>\n",
              "      <td>30.3</td>\n",
              "      <td>2615</td>\n",
              "      <td>67.0</td>\n",
              "      <td>2616</td>\n",
              "      <td>2229</td>\n",
              "      <td>85.2</td>\n",
              "      <td>65</td>\n",
              "      <td>20</td>\n",
              "      <td>127</td>\n",
              "      <td>60.0</td>\n",
              "    </tr>\n",
              "    <tr>\n",
              "      <th>2</th>\n",
              "      <td>Allan Saint-Maximin</td>\n",
              "      <td>2.099619e+07</td>\n",
              "      <td>22500000</td>\n",
              "      <td>2019</td>\n",
              "      <td>21</td>\n",
              "      <td>7</td>\n",
              "      <td>34</td>\n",
              "      <td>34</td>\n",
              "      <td>2900</td>\n",
              "      <td>5</td>\n",
              "      <td>3</td>\n",
              "      <td>73.0</td>\n",
              "      <td>17.0</td>\n",
              "      <td>23.3</td>\n",
              "      <td>0.05</td>\n",
              "      <td>718</td>\n",
              "      <td>74.1</td>\n",
              "      <td>81</td>\n",
              "      <td>21</td>\n",
              "      <td>NaN</td>\n",
              "      <td>143</td>\n",
              "      <td>76</td>\n",
              "      <td>35</td>\n",
              "      <td>11</td>\n",
              "      <td>6</td>\n",
              "      <td>11</td>\n",
              "      <td>321</td>\n",
              "      <td>22.1</td>\n",
              "      <td>1466</td>\n",
              "      <td>64.1</td>\n",
              "      <td>1624</td>\n",
              "      <td>1181</td>\n",
              "      <td>72.7</td>\n",
              "      <td>117</td>\n",
              "      <td>12</td>\n",
              "      <td>176</td>\n",
              "      <td>44.4</td>\n",
              "    </tr>\n",
              "    <tr>\n",
              "      <th>3</th>\n",
              "      <td>Lionel Messi</td>\n",
              "      <td>1.259771e+08</td>\n",
              "      <td>135000000</td>\n",
              "      <td>2019</td>\n",
              "      <td>31</td>\n",
              "      <td>1</td>\n",
              "      <td>34</td>\n",
              "      <td>29</td>\n",
              "      <td>2713</td>\n",
              "      <td>36</td>\n",
              "      <td>13</td>\n",
              "      <td>167.0</td>\n",
              "      <td>85.0</td>\n",
              "      <td>50.9</td>\n",
              "      <td>4.00</td>\n",
              "      <td>1524</td>\n",
              "      <td>78.6</td>\n",
              "      <td>78</td>\n",
              "      <td>66</td>\n",
              "      <td>63.0</td>\n",
              "      <td>220</td>\n",
              "      <td>130</td>\n",
              "      <td>35</td>\n",
              "      <td>36</td>\n",
              "      <td>20</td>\n",
              "      <td>15</td>\n",
              "      <td>324</td>\n",
              "      <td>28.1</td>\n",
              "      <td>2395</td>\n",
              "      <td>61.3</td>\n",
              "      <td>2437</td>\n",
              "      <td>2046</td>\n",
              "      <td>84.0</td>\n",
              "      <td>51</td>\n",
              "      <td>22</td>\n",
              "      <td>131</td>\n",
              "      <td>30.0</td>\n",
              "    </tr>\n",
              "    <tr>\n",
              "      <th>4</th>\n",
              "      <td>Sofiane Boufal</td>\n",
              "      <td>8.398475e+06</td>\n",
              "      <td>9000000</td>\n",
              "      <td>2019</td>\n",
              "      <td>24</td>\n",
              "      <td>17</td>\n",
              "      <td>35</td>\n",
              "      <td>25</td>\n",
              "      <td>2085</td>\n",
              "      <td>3</td>\n",
              "      <td>3</td>\n",
              "      <td>50.0</td>\n",
              "      <td>17.0</td>\n",
              "      <td>34.0</td>\n",
              "      <td>0.06</td>\n",
              "      <td>674</td>\n",
              "      <td>76.2</td>\n",
              "      <td>60</td>\n",
              "      <td>21</td>\n",
              "      <td>NaN</td>\n",
              "      <td>110</td>\n",
              "      <td>54</td>\n",
              "      <td>29</td>\n",
              "      <td>13</td>\n",
              "      <td>7</td>\n",
              "      <td>33</td>\n",
              "      <td>469</td>\n",
              "      <td>24.3</td>\n",
              "      <td>1303</td>\n",
              "      <td>66.1</td>\n",
              "      <td>1184</td>\n",
              "      <td>975</td>\n",
              "      <td>82.3</td>\n",
              "      <td>66</td>\n",
              "      <td>42</td>\n",
              "      <td>165</td>\n",
              "      <td>53.6</td>\n",
              "    </tr>\n",
              "  </tbody>\n",
              "</table>\n",
              "</div>"
            ],
            "text/plain": [
              "            playername          mvpr  marketvaluepound  ...  fls  recov  aerialwonp\n",
              "0         Lionel Messi  1.538937e+08         162000000  ...   17    150        38.5\n",
              "1         Lionel Messi  9.239972e+07         100800000  ...   20    127        60.0\n",
              "2  Allan Saint-Maximin  2.099619e+07          22500000  ...   12    176        44.4\n",
              "3         Lionel Messi  1.259771e+08         135000000  ...   22    131        30.0\n",
              "4       Sofiane Boufal  8.398475e+06           9000000  ...   42    165        53.6\n",
              "\n",
              "[5 rows x 37 columns]"
            ]
          },
          "metadata": {
            "tags": []
          },
          "execution_count": 136
        }
      ]
    },
    {
      "cell_type": "code",
      "metadata": {
        "id": "0tjXpjr2KPPi",
        "colab_type": "code",
        "colab": {
          "base_uri": "https://localhost:8080/",
          "height": 195
        },
        "outputId": "cb81b129-4ed1-4274-e4b8-e4bde23b4b67"
      },
      "source": [
        "sal = sal[['mvpr','goal','assist','sh','int','drib']]\n",
        "sal.head(5)"
      ],
      "execution_count": 137,
      "outputs": [
        {
          "output_type": "execute_result",
          "data": {
            "text/html": [
              "<div>\n",
              "<style scoped>\n",
              "    .dataframe tbody tr th:only-of-type {\n",
              "        vertical-align: middle;\n",
              "    }\n",
              "\n",
              "    .dataframe tbody tr th {\n",
              "        vertical-align: top;\n",
              "    }\n",
              "\n",
              "    .dataframe thead th {\n",
              "        text-align: right;\n",
              "    }\n",
              "</style>\n",
              "<table border=\"1\" class=\"dataframe\">\n",
              "  <thead>\n",
              "    <tr style=\"text-align: right;\">\n",
              "      <th></th>\n",
              "      <th>mvpr</th>\n",
              "      <th>goal</th>\n",
              "      <th>assist</th>\n",
              "      <th>sh</th>\n",
              "      <th>int</th>\n",
              "      <th>drib</th>\n",
              "    </tr>\n",
              "  </thead>\n",
              "  <tbody>\n",
              "    <tr>\n",
              "      <th>0</th>\n",
              "      <td>1.538937e+08</td>\n",
              "      <td>34</td>\n",
              "      <td>12</td>\n",
              "      <td>194.0</td>\n",
              "      <td>62</td>\n",
              "      <td>39</td>\n",
              "    </tr>\n",
              "    <tr>\n",
              "      <th>1</th>\n",
              "      <td>9.239972e+07</td>\n",
              "      <td>25</td>\n",
              "      <td>20</td>\n",
              "      <td>154.0</td>\n",
              "      <td>61</td>\n",
              "      <td>37</td>\n",
              "    </tr>\n",
              "    <tr>\n",
              "      <th>2</th>\n",
              "      <td>2.099619e+07</td>\n",
              "      <td>5</td>\n",
              "      <td>3</td>\n",
              "      <td>73.0</td>\n",
              "      <td>21</td>\n",
              "      <td>35</td>\n",
              "    </tr>\n",
              "    <tr>\n",
              "      <th>3</th>\n",
              "      <td>1.259771e+08</td>\n",
              "      <td>36</td>\n",
              "      <td>13</td>\n",
              "      <td>167.0</td>\n",
              "      <td>66</td>\n",
              "      <td>35</td>\n",
              "    </tr>\n",
              "    <tr>\n",
              "      <th>4</th>\n",
              "      <td>8.398475e+06</td>\n",
              "      <td>3</td>\n",
              "      <td>3</td>\n",
              "      <td>50.0</td>\n",
              "      <td>21</td>\n",
              "      <td>29</td>\n",
              "    </tr>\n",
              "  </tbody>\n",
              "</table>\n",
              "</div>"
            ],
            "text/plain": [
              "           mvpr  goal  assist     sh  int  drib\n",
              "0  1.538937e+08    34      12  194.0   62    39\n",
              "1  9.239972e+07    25      20  154.0   61    37\n",
              "2  2.099619e+07     5       3   73.0   21    35\n",
              "3  1.259771e+08    36      13  167.0   66    35\n",
              "4  8.398475e+06     3       3   50.0   21    29"
            ]
          },
          "metadata": {
            "tags": []
          },
          "execution_count": 137
        }
      ]
    },
    {
      "cell_type": "code",
      "metadata": {
        "id": "d5kDoDnFKjhf",
        "colab_type": "code",
        "colab": {}
      },
      "source": [
        "models = []\n",
        "models.append(('KNN', KNeighborsRegressor()))\n",
        "models.append(('SVR', SVR()))\n",
        "models.append(('MLP',MLPRegressor()))\n",
        "models.append(('CART', DecisionTreeRegressor()))\n",
        "models.append(('RF', RandomForestRegressor()))\n",
        "models.append(('GBM', GradientBoostingRegressor()))\n",
        "models.append((\"XGBoost\", XGBRegressor()))\n",
        "models.append((\"LightGBM\", LGBMRegressor()))\n",
        "models.append((\"CatBoost\", CatBoostRegressor(verbose = False)))"
      ],
      "execution_count": 26,
      "outputs": []
    },
    {
      "cell_type": "code",
      "metadata": {
        "id": "vNfrxdQKKnEr",
        "colab_type": "code",
        "colab": {
          "base_uri": "https://localhost:8080/",
          "height": 34
        },
        "outputId": "94ff6736-f7d7-4781-ec39-c3a2e6408063"
      },
      "source": [
        "y = sal[\"mvpr\"]\n",
        "X = sal.drop(\"mvpr\", axis=1)\n",
        "cols = X.columns\n",
        "cols\n"
      ],
      "execution_count": 27,
      "outputs": [
        {
          "output_type": "execute_result",
          "data": {
            "text/plain": [
              "Index(['goal', 'assist', 'sh', 'int', 'drib'], dtype='object')"
            ]
          },
          "metadata": {
            "tags": []
          },
          "execution_count": 27
        }
      ]
    },
    {
      "cell_type": "code",
      "metadata": {
        "id": "krSBN1TjLMxP",
        "colab_type": "code",
        "colab": {
          "base_uri": "https://localhost:8080/",
          "height": 269
        },
        "outputId": "813fbb12-28c2-4ee2-acb0-5ef9b58a57ff"
      },
      "source": [
        "X = X.dropna(inplace=False, axis=0)\n",
        "print(X)"
      ],
      "execution_count": null,
      "outputs": [
        {
          "output_type": "stream",
          "text": [
            "      goal  assist    sh   int  drib\n",
            "0      3.0     1.0  38.0   4.0   3.0\n",
            "1      4.0     3.0  29.0  30.0   0.0\n",
            "2      3.0     1.0  39.0  38.0   2.0\n",
            "3      2.0     2.0  33.0  19.0   3.0\n",
            "4      1.0     3.0  19.0  14.0   6.0\n",
            "...    ...     ...   ...   ...   ...\n",
            "1551   4.0     2.0  37.8  17.0   2.0\n",
            "1552   3.0     2.0  21.4  13.0   2.0\n",
            "1553   8.0     2.0  45.7  13.0   5.0\n",
            "1555  30.0     7.0  41.3  30.0  10.0\n",
            "1556  10.0     5.0  31.3  22.0   3.0\n",
            "\n",
            "[1185 rows x 5 columns]\n"
          ],
          "name": "stdout"
        }
      ]
    },
    {
      "cell_type": "code",
      "metadata": {
        "id": "ibHgyP6OK53u",
        "colab_type": "code",
        "colab": {
          "base_uri": "https://localhost:8080/",
          "height": 34
        },
        "outputId": "791ddb58-92b6-4efb-9801-b62be90eba04"
      },
      "source": [
        "#Feature Selection\n",
        "#Wrapper Method\n",
        "#Backward Elimination\n",
        "\n",
        "import statsmodels.api as sm\n",
        "cols = list(X.columns)\n",
        "pmax = 1\n",
        "while (len(cols)>0):\n",
        "    p= []\n",
        "    X_1 = X[cols]\n",
        "    X_1 = sm.add_constant(X_1)\n",
        "    model = sm.OLS(y,X_1).fit()\n",
        "    p = pd.Series(model.pvalues.values[1:],index = cols)      \n",
        "    pmax = max(p)\n",
        "    feature_with_p_max = p.idxmax()\n",
        "    if(pmax>0.05):\n",
        "        cols.remove(feature_with_p_max)\n",
        "    else:\n",
        "        break\n",
        "selected_features_BE = cols\n",
        "print(selected_features_BE)"
      ],
      "execution_count": 28,
      "outputs": [
        {
          "output_type": "stream",
          "text": [
            "['goal', 'assist', 'sh', 'int', 'drib']\n"
          ],
          "name": "stdout"
        }
      ]
    },
    {
      "cell_type": "code",
      "metadata": {
        "id": "7qcMVZSUL8m_",
        "colab_type": "code",
        "colab": {}
      },
      "source": [
        "y = sal[\"mvpr\"]\n",
        "X = sal[selected_features_BE]"
      ],
      "execution_count": 29,
      "outputs": []
    },
    {
      "cell_type": "code",
      "metadata": {
        "id": "OWI1PCIGMCVr",
        "colab_type": "code",
        "colab": {}
      },
      "source": [
        "scaler = StandardScaler()\n",
        "X = scaler.fit_transform(X)\n",
        "X_train, X_test, y_train, y_test = train_test_split(X, \n",
        "                                                    y, \n",
        "                                                    test_size=0.20, \n",
        "                                                    random_state=46)"
      ],
      "execution_count": 30,
      "outputs": []
    },
    {
      "cell_type": "code",
      "metadata": {
        "id": "q1qNQqWZMGJv",
        "colab_type": "code",
        "colab": {
          "base_uri": "https://localhost:8080/",
          "height": 248
        },
        "outputId": "ee049c85-8fa3-4631-e962-1975d69e5b3a"
      },
      "source": [
        "for name, model in models:\n",
        "        model.fit(X_train, y_train)\n",
        "        y_pred = model.predict(X_test)\n",
        "        rmse = np.sqrt(mean_squared_error(y_test, y_pred))\n",
        "        msg = \"%s: (%f)\" % (name, rmse)\n",
        "        print(msg)"
      ],
      "execution_count": 31,
      "outputs": [
        {
          "output_type": "stream",
          "text": [
            "KNN: (18918030.060612)\n",
            "SVR: (25711422.037997)\n"
          ],
          "name": "stdout"
        },
        {
          "output_type": "stream",
          "text": [
            "/usr/local/lib/python3.6/dist-packages/sklearn/neural_network/_multilayer_perceptron.py:571: ConvergenceWarning: Stochastic Optimizer: Maximum iterations (200) reached and the optimization hasn't converged yet.\n",
            "  % self.max_iter, ConvergenceWarning)\n"
          ],
          "name": "stderr"
        },
        {
          "output_type": "stream",
          "text": [
            "MLP: (30506598.975131)\n",
            "CART: (22698995.987510)\n",
            "RF: (17633379.959758)\n",
            "GBM: (17489642.430099)\n",
            "[15:25:19] WARNING: /workspace/src/objective/regression_obj.cu:152: reg:linear is now deprecated in favor of reg:squarederror.\n",
            "XGBoost: (17930866.724962)\n",
            "LightGBM: (19676104.747404)\n",
            "CatBoost: (18090382.912884)\n"
          ],
          "name": "stdout"
        }
      ]
    },
    {
      "cell_type": "markdown",
      "metadata": {
        "id": "MVwx1mkuNVxH",
        "colab_type": "text"
      },
      "source": [
        "# KNN"
      ]
    },
    {
      "cell_type": "code",
      "metadata": {
        "id": "Vfn34RdbMTBz",
        "colab_type": "code",
        "colab": {}
      },
      "source": [
        "knn_params = {\"n_neighbors\": np.arange(1,30,1)}\n",
        "\n",
        "knn_model = KNeighborsRegressor()\n",
        "\n",
        "knn_cv_model = GridSearchCV(knn_model, knn_params, cv = 10).fit(X_train, y_train)"
      ],
      "execution_count": 32,
      "outputs": []
    },
    {
      "cell_type": "code",
      "metadata": {
        "id": "1eIulL62NIZ0",
        "colab_type": "code",
        "colab": {
          "base_uri": "https://localhost:8080/",
          "height": 34
        },
        "outputId": "f2e34268-b0b9-4309-86dc-4a1903967ecc"
      },
      "source": [
        "knn_cv_model.best_params_"
      ],
      "execution_count": 33,
      "outputs": [
        {
          "output_type": "execute_result",
          "data": {
            "text/plain": [
              "{'n_neighbors': 28}"
            ]
          },
          "metadata": {
            "tags": []
          },
          "execution_count": 33
        }
      ]
    },
    {
      "cell_type": "code",
      "metadata": {
        "id": "FX3RI9CwNMUR",
        "colab_type": "code",
        "colab": {}
      },
      "source": [
        "knn_tuned = KNeighborsRegressor(**knn_cv_model.best_params_).fit(X_train, y_train)"
      ],
      "execution_count": 34,
      "outputs": []
    },
    {
      "cell_type": "code",
      "metadata": {
        "id": "fN21gZ0nNOry",
        "colab_type": "code",
        "colab": {
          "base_uri": "https://localhost:8080/",
          "height": 34
        },
        "outputId": "f8a03757-21fb-4cca-9553-6e67e8b13009"
      },
      "source": [
        "y_pred = knn_tuned.predict(X_test)\n",
        "knn_tuned_score = np.sqrt(mean_squared_error(y_test, y_pred))\n",
        "knn_tuned_score"
      ],
      "execution_count": 35,
      "outputs": [
        {
          "output_type": "execute_result",
          "data": {
            "text/plain": [
              "18398248.689758003"
            ]
          },
          "metadata": {
            "tags": []
          },
          "execution_count": 35
        }
      ]
    },
    {
      "cell_type": "markdown",
      "metadata": {
        "id": "ISZAIrjiNYIy",
        "colab_type": "text"
      },
      "source": [
        "# SVR"
      ]
    },
    {
      "cell_type": "code",
      "metadata": {
        "id": "PT2QzK78NRJi",
        "colab_type": "code",
        "colab": {
          "base_uri": "https://localhost:8080/",
          "height": 87
        },
        "outputId": "162ebb77-e79f-4c5b-e0d2-d88f9fd45cae"
      },
      "source": [
        "svr_model = SVR() \n",
        "\n",
        "svr_params = {\"C\": [0.01, 0.1,0.3,0.5,0.8,1,5, 10, 50, 100,500,1000,10000]}\n",
        "\n",
        "svr_cv_model = GridSearchCV(svr_model, svr_params, cv = 10, n_jobs = -1, verbose =  2).fit(X_train, y_train)"
      ],
      "execution_count": 36,
      "outputs": [
        {
          "output_type": "stream",
          "text": [
            "Fitting 10 folds for each of 13 candidates, totalling 130 fits\n"
          ],
          "name": "stdout"
        },
        {
          "output_type": "stream",
          "text": [
            "[Parallel(n_jobs=-1)]: Using backend LokyBackend with 2 concurrent workers.\n",
            "[Parallel(n_jobs=-1)]: Done  50 tasks      | elapsed:    3.5s\n",
            "[Parallel(n_jobs=-1)]: Done 130 out of 130 | elapsed:    6.6s finished\n"
          ],
          "name": "stderr"
        }
      ]
    },
    {
      "cell_type": "code",
      "metadata": {
        "id": "8jA6UKBBNhTx",
        "colab_type": "code",
        "colab": {
          "base_uri": "https://localhost:8080/",
          "height": 34
        },
        "outputId": "d76d7220-704d-4114-f3b9-a747195b9fdc"
      },
      "source": [
        "svr_cv_model.best_params_"
      ],
      "execution_count": 37,
      "outputs": [
        {
          "output_type": "execute_result",
          "data": {
            "text/plain": [
              "{'C': 10000}"
            ]
          },
          "metadata": {
            "tags": []
          },
          "execution_count": 37
        }
      ]
    },
    {
      "cell_type": "code",
      "metadata": {
        "id": "Pmb0dQwGNld4",
        "colab_type": "code",
        "colab": {}
      },
      "source": [
        "svr_tuned = SVR(**svr_cv_model.best_params_).fit(X_train, y_train)"
      ],
      "execution_count": 38,
      "outputs": []
    },
    {
      "cell_type": "code",
      "metadata": {
        "id": "XjuTOFtkNn9l",
        "colab_type": "code",
        "colab": {
          "base_uri": "https://localhost:8080/",
          "height": 34
        },
        "outputId": "b6e1ba71-8f54-4884-956c-1423456aa716"
      },
      "source": [
        "y_pred = svr_tuned.predict(X_test)\n",
        "svr_tuned_score = np.sqrt(mean_squared_error(y_test, y_pred))\n",
        "svr_tuned_score"
      ],
      "execution_count": 39,
      "outputs": [
        {
          "output_type": "execute_result",
          "data": {
            "text/plain": [
              "25369845.358923674"
            ]
          },
          "metadata": {
            "tags": []
          },
          "execution_count": 39
        }
      ]
    },
    {
      "cell_type": "markdown",
      "metadata": {
        "id": "rTwGnHbTNrHa",
        "colab_type": "text"
      },
      "source": [
        "# cart"
      ]
    },
    {
      "cell_type": "code",
      "metadata": {
        "id": "pmqX2eouNtnU",
        "colab_type": "code",
        "colab": {}
      },
      "source": [
        "cart_params = {\"max_depth\": [2,3,4,5,6,8,10,20,30,50, 100, 500, 1000,5000,10000],\n",
        "              \"min_samples_split\": [2,5,10,20,30,50,100,500,1000,5000,10000]}"
      ],
      "execution_count": 40,
      "outputs": []
    },
    {
      "cell_type": "code",
      "metadata": {
        "id": "Gl6laYeANv4t",
        "colab_type": "code",
        "colab": {}
      },
      "source": [
        "cart_model = DecisionTreeRegressor()"
      ],
      "execution_count": 41,
      "outputs": []
    },
    {
      "cell_type": "code",
      "metadata": {
        "id": "OuXer1EWNzZh",
        "colab_type": "code",
        "colab": {}
      },
      "source": [
        "cart_cv_model = GridSearchCV(cart_model, cart_params, cv = 10).fit(X_train, y_train)"
      ],
      "execution_count": 42,
      "outputs": []
    },
    {
      "cell_type": "code",
      "metadata": {
        "id": "l0CntX0fN1Y8",
        "colab_type": "code",
        "colab": {
          "base_uri": "https://localhost:8080/",
          "height": 34
        },
        "outputId": "f6e14b46-d5bd-49f9-f2a9-823939989bae"
      },
      "source": [
        "cart_cv_model.best_params_"
      ],
      "execution_count": 43,
      "outputs": [
        {
          "output_type": "execute_result",
          "data": {
            "text/plain": [
              "{'max_depth': 4, 'min_samples_split': 20}"
            ]
          },
          "metadata": {
            "tags": []
          },
          "execution_count": 43
        }
      ]
    },
    {
      "cell_type": "code",
      "metadata": {
        "id": "4FbDMYegN4RF",
        "colab_type": "code",
        "colab": {}
      },
      "source": [
        "cart_tuned = DecisionTreeRegressor(**cart_cv_model.best_params_).fit(X_train, y_train)"
      ],
      "execution_count": 44,
      "outputs": []
    },
    {
      "cell_type": "code",
      "metadata": {
        "id": "06RKOVE2N5Cm",
        "colab_type": "code",
        "colab": {
          "base_uri": "https://localhost:8080/",
          "height": 34
        },
        "outputId": "c1d7baef-9810-48cc-d552-bbc9c77b3a5b"
      },
      "source": [
        "y_pred = cart_tuned.predict(X_test)\n",
        "cart_tuned_score = np.sqrt(mean_squared_error(y_test, y_pred))\n",
        "cart_tuned_score"
      ],
      "execution_count": 45,
      "outputs": [
        {
          "output_type": "execute_result",
          "data": {
            "text/plain": [
              "18619992.077885404"
            ]
          },
          "metadata": {
            "tags": []
          },
          "execution_count": 45
        }
      ]
    },
    {
      "cell_type": "markdown",
      "metadata": {
        "id": "Y6OnTr7-N9PQ",
        "colab_type": "text"
      },
      "source": [
        "# randomforest"
      ]
    },
    {
      "cell_type": "code",
      "metadata": {
        "id": "xgKOl5OTN7IY",
        "colab_type": "code",
        "colab": {}
      },
      "source": [
        "rf_params = {\"max_depth\": [5,10,None],\n",
        "            \"max_features\": [2,5,10],\n",
        "            \"n_estimators\": [100, 500, 1000],\n",
        "            \"min_samples_split\": [2,10,30]}"
      ],
      "execution_count": 125,
      "outputs": []
    },
    {
      "cell_type": "code",
      "metadata": {
        "id": "tGLZeePwN_3e",
        "colab_type": "code",
        "colab": {}
      },
      "source": [
        "rf_model = RandomForestRegressor(random_state = 42).fit(X_train, y_train)"
      ],
      "execution_count": 126,
      "outputs": []
    },
    {
      "cell_type": "code",
      "metadata": {
        "id": "tbRhJXOJOB3x",
        "colab_type": "code",
        "colab": {
          "base_uri": "https://localhost:8080/",
          "height": 140
        },
        "outputId": "e7432e32-0936-458e-8029-c6efa3f20ea3"
      },
      "source": [
        "rf_cv_model = GridSearchCV(rf_model, rf_params, cv = 10, n_jobs = -1, verbose = 2).fit(X_train, y_train)"
      ],
      "execution_count": 48,
      "outputs": [
        {
          "output_type": "stream",
          "text": [
            "Fitting 10 folds for each of 81 candidates, totalling 810 fits\n"
          ],
          "name": "stdout"
        },
        {
          "output_type": "stream",
          "text": [
            "[Parallel(n_jobs=-1)]: Using backend LokyBackend with 2 concurrent workers.\n",
            "[Parallel(n_jobs=-1)]: Done  37 tasks      | elapsed:   20.9s\n",
            "[Parallel(n_jobs=-1)]: Done 158 tasks      | elapsed:  1.8min\n",
            "[Parallel(n_jobs=-1)]: Done 361 tasks      | elapsed:  3.6min\n",
            "[Parallel(n_jobs=-1)]: Done 644 tasks      | elapsed:  6.7min\n",
            "[Parallel(n_jobs=-1)]: Done 810 out of 810 | elapsed:  8.5min finished\n"
          ],
          "name": "stderr"
        }
      ]
    },
    {
      "cell_type": "code",
      "metadata": {
        "id": "gCWGEA_mOESr",
        "colab_type": "code",
        "colab": {
          "base_uri": "https://localhost:8080/",
          "height": 87
        },
        "outputId": "14ad232c-e626-4037-a784-29378b4000f0"
      },
      "source": [
        "rf_cv_model.best_params_"
      ],
      "execution_count": 49,
      "outputs": [
        {
          "output_type": "execute_result",
          "data": {
            "text/plain": [
              "{'max_depth': 5,\n",
              " 'max_features': 2,\n",
              " 'min_samples_split': 30,\n",
              " 'n_estimators': 1000}"
            ]
          },
          "metadata": {
            "tags": []
          },
          "execution_count": 49
        }
      ]
    },
    {
      "cell_type": "code",
      "metadata": {
        "id": "j1OUHEvDOF_0",
        "colab_type": "code",
        "colab": {}
      },
      "source": [
        "rf_tuned = RandomForestRegressor(max_depth=30,\n",
        "            max_features=3,\n",
        "            n_estimators=1000,\n",
        "            min_samples_split=3).fit(X_train, y_train)"
      ],
      "execution_count": 50,
      "outputs": []
    },
    {
      "cell_type": "code",
      "metadata": {
        "id": "STbqtPjiOIKS",
        "colab_type": "code",
        "colab": {
          "base_uri": "https://localhost:8080/",
          "height": 34
        },
        "outputId": "d50d3abc-94f6-4bd2-e34c-8a3d3e3dbab0"
      },
      "source": [
        "y_pred = rf_tuned.predict(X_test)\n",
        "rf_tuned_score = np.sqrt(mean_squared_error(y_test, y_pred))\n",
        "rf_tuned_score"
      ],
      "execution_count": 51,
      "outputs": [
        {
          "output_type": "execute_result",
          "data": {
            "text/plain": [
              "17258794.684491023"
            ]
          },
          "metadata": {
            "tags": []
          },
          "execution_count": 51
        }
      ]
    },
    {
      "cell_type": "code",
      "metadata": {
        "id": "Z6bRU3pPOKCy",
        "colab_type": "code",
        "colab": {
          "base_uri": "https://localhost:8080/",
          "height": 279
        },
        "outputId": "758903aa-7fac-46e7-e0e0-2d28dcd06d8d"
      },
      "source": [
        "Importance = pd.DataFrame({'Importance':rf_tuned.feature_importances_*100}, \n",
        "                          index = cols)\n",
        "\n",
        "\n",
        "Importance.sort_values(by = 'Importance', \n",
        "                       axis = 0, \n",
        "                       ascending = True).plot(kind = 'barh', \n",
        "                                              color = 'r', )\n",
        "\n",
        "plt.xlabel('Variable Importance')\n",
        "plt.gca().legend_ = None"
      ],
      "execution_count": 52,
      "outputs": [
        {
          "output_type": "display_data",
          "data": {
            "image/png": "[encoded data removed]",
            "text/plain": [
              "<Figure size 432x288 with 1 Axes>"
            ]
          },
          "metadata": {
            "tags": [],
            "needs_background": "light"
          }
        }
      ]
    },
    {
      "cell_type": "markdown",
      "metadata": {
        "id": "O0axm1-aKfJU",
        "colab_type": "text"
      },
      "source": [
        "# gbm"
      ]
    },
    {
      "cell_type": "code",
      "metadata": {
        "id": "Uwpwcnz5Kd5L",
        "colab_type": "code",
        "colab": {}
      },
      "source": [
        "gbm_params = {\"learning_rate\": [0.001,0.1,0.01],\n",
        "             \"max_depth\": [3,5,8],\n",
        "             \"n_estimators\": [200,500,1000],\n",
        "             \"subsample\": [1,0.5,0.8]\n",
        "             }"
      ],
      "execution_count": 53,
      "outputs": []
    },
    {
      "cell_type": "code",
      "metadata": {
        "id": "PIp-FAfFKjpv",
        "colab_type": "code",
        "colab": {}
      },
      "source": [
        "gbm_model = GradientBoostingRegressor()"
      ],
      "execution_count": 54,
      "outputs": []
    },
    {
      "cell_type": "code",
      "metadata": {
        "id": "mMvoASLyKlPv",
        "colab_type": "code",
        "colab": {
          "base_uri": "https://localhost:8080/",
          "height": 140
        },
        "outputId": "4383339a-6a06-4363-dae7-f67938dd4f39"
      },
      "source": [
        "gbm_cv_model = GridSearchCV(gbm_model, \n",
        "                            gbm_params, \n",
        "                            cv = 10, \n",
        "                            n_jobs=-1, \n",
        "                            verbose = 2).fit(X_train, y_train)"
      ],
      "execution_count": 55,
      "outputs": [
        {
          "output_type": "stream",
          "text": [
            "Fitting 10 folds for each of 81 candidates, totalling 810 fits\n"
          ],
          "name": "stdout"
        },
        {
          "output_type": "stream",
          "text": [
            "[Parallel(n_jobs=-1)]: Using backend LokyBackend with 2 concurrent workers.\n",
            "[Parallel(n_jobs=-1)]: Done  37 tasks      | elapsed:    6.6s\n",
            "[Parallel(n_jobs=-1)]: Done 158 tasks      | elapsed:   59.5s\n",
            "[Parallel(n_jobs=-1)]: Done 361 tasks      | elapsed:  2.9min\n",
            "[Parallel(n_jobs=-1)]: Done 644 tasks      | elapsed:  5.4min\n",
            "[Parallel(n_jobs=-1)]: Done 810 out of 810 | elapsed:  7.1min finished\n"
          ],
          "name": "stderr"
        }
      ]
    },
    {
      "cell_type": "code",
      "metadata": {
        "id": "PCPd_eh9Knxr",
        "colab_type": "code",
        "colab": {
          "base_uri": "https://localhost:8080/",
          "height": 34
        },
        "outputId": "198bb6b5-5d5e-406f-a990-d0fc4ef64d51"
      },
      "source": [
        "gbm_cv_model.best_params_"
      ],
      "execution_count": 56,
      "outputs": [
        {
          "output_type": "execute_result",
          "data": {
            "text/plain": [
              "{'learning_rate': 0.01, 'max_depth': 3, 'n_estimators': 200, 'subsample': 0.5}"
            ]
          },
          "metadata": {
            "tags": []
          },
          "execution_count": 56
        }
      ]
    },
    {
      "cell_type": "code",
      "metadata": {
        "id": "8YCs0VvYKo0W",
        "colab_type": "code",
        "colab": {}
      },
      "source": [
        "gbm_tuned = GradientBoostingRegressor(**gbm_cv_model.best_params_).fit(X_train, y_train)"
      ],
      "execution_count": 57,
      "outputs": []
    },
    {
      "cell_type": "code",
      "metadata": {
        "id": "bKUDOnR3Kq2k",
        "colab_type": "code",
        "colab": {
          "base_uri": "https://localhost:8080/",
          "height": 34
        },
        "outputId": "98370d1b-bbd9-45f2-f4ab-80d2a9b97aa0"
      },
      "source": [
        "y_pred = gbm_tuned.predict(X_test)\n",
        "gbm_tuned_score = np.sqrt(mean_squared_error(y_test, y_pred))\n",
        "gbm_tuned_score"
      ],
      "execution_count": 58,
      "outputs": [
        {
          "output_type": "execute_result",
          "data": {
            "text/plain": [
              "17422110.3052677"
            ]
          },
          "metadata": {
            "tags": []
          },
          "execution_count": 58
        }
      ]
    },
    {
      "cell_type": "code",
      "metadata": {
        "id": "g7JunfNWKsP0",
        "colab_type": "code",
        "colab": {
          "base_uri": "https://localhost:8080/",
          "height": 279
        },
        "outputId": "f10a4027-f7ef-4e68-a9e6-defebcb13f05"
      },
      "source": [
        "Importance = pd.DataFrame({'Importance':gbm_tuned.feature_importances_*100}, \n",
        "                          index = cols)\n",
        "\n",
        "\n",
        "Importance.sort_values(by = 'Importance', \n",
        "                       axis = 0, \n",
        "                       ascending = True).plot(kind = 'barh', \n",
        "                                              color = 'r', )\n",
        "\n",
        "plt.xlabel('Variable Importance')\n",
        "plt.gca().legend_ = None"
      ],
      "execution_count": 59,
      "outputs": [
        {
          "output_type": "display_data",
          "data": {
            "image/png": "[encoded data removed]",
            "text/plain": [
              "<Figure size 432x288 with 1 Axes>"
            ]
          },
          "metadata": {
            "tags": [],
            "needs_background": "light"
          }
        }
      ]
    },
    {
      "cell_type": "markdown",
      "metadata": {
        "id": "sruGxjFxMdPC",
        "colab_type": "text"
      },
      "source": [
        "# xgb"
      ]
    },
    {
      "cell_type": "code",
      "metadata": {
        "id": "krihIhorMXHw",
        "colab_type": "code",
        "colab": {}
      },
      "source": [
        "xgb_params = {\"learning_rate\": [0.1,0.01,1],\n",
        "             \"max_depth\": [2,5,8],\n",
        "             \"n_estimators\": [100,500,1000],\n",
        "             \"colsample_bytree\": [0.3,0.6,1]}"
      ],
      "execution_count": 60,
      "outputs": []
    },
    {
      "cell_type": "code",
      "metadata": {
        "id": "zgI8LNHcMg6q",
        "colab_type": "code",
        "colab": {}
      },
      "source": [
        "xgb = XGBRegressor()"
      ],
      "execution_count": 61,
      "outputs": []
    },
    {
      "cell_type": "code",
      "metadata": {
        "id": "30l1j6WOMiWj",
        "colab_type": "code",
        "colab": {
          "base_uri": "https://localhost:8080/",
          "height": 178
        },
        "outputId": "4225860c-6c72-4d8d-b9cc-c53dfd7e19a7"
      },
      "source": [
        "xgb_cv_model  = GridSearchCV(xgb,xgb_params, cv = 10, n_jobs = -1, verbose = 2).fit(X_train, y_train)"
      ],
      "execution_count": 62,
      "outputs": [
        {
          "output_type": "stream",
          "text": [
            "Fitting 10 folds for each of 81 candidates, totalling 810 fits\n"
          ],
          "name": "stdout"
        },
        {
          "output_type": "stream",
          "text": [
            "[Parallel(n_jobs=-1)]: Using backend LokyBackend with 2 concurrent workers.\n",
            "[Parallel(n_jobs=-1)]: Done  89 tasks      | elapsed:   12.6s\n",
            "[Parallel(n_jobs=-1)]: Done 210 tasks      | elapsed:   28.1s\n",
            "[Parallel(n_jobs=-1)]: Done 413 tasks      | elapsed:  1.1min\n",
            "[Parallel(n_jobs=-1)]: Done 696 tasks      | elapsed:  2.2min\n"
          ],
          "name": "stderr"
        },
        {
          "output_type": "stream",
          "text": [
            "[15:48:11] WARNING: /workspace/src/objective/regression_obj.cu:152: reg:linear is now deprecated in favor of reg:squarederror.\n"
          ],
          "name": "stdout"
        },
        {
          "output_type": "stream",
          "text": [
            "[Parallel(n_jobs=-1)]: Done 810 out of 810 | elapsed:  2.8min finished\n"
          ],
          "name": "stderr"
        }
      ]
    },
    {
      "cell_type": "code",
      "metadata": {
        "id": "vLAgho5iMkd9",
        "colab_type": "code",
        "colab": {
          "base_uri": "https://localhost:8080/",
          "height": 87
        },
        "outputId": "b2c43365-682a-47d0-8d3f-b29f9de23b10"
      },
      "source": [
        "xgb_cv_model.best_params_"
      ],
      "execution_count": 63,
      "outputs": [
        {
          "output_type": "execute_result",
          "data": {
            "text/plain": [
              "{'colsample_bytree': 1,\n",
              " 'learning_rate': 0.01,\n",
              " 'max_depth': 2,\n",
              " 'n_estimators': 500}"
            ]
          },
          "metadata": {
            "tags": []
          },
          "execution_count": 63
        }
      ]
    },
    {
      "cell_type": "code",
      "metadata": {
        "id": "jj3SC0AYMlGs",
        "colab_type": "code",
        "colab": {
          "base_uri": "https://localhost:8080/",
          "height": 54
        },
        "outputId": "818cb229-a682-4d8e-b29f-a7ddc51e6688"
      },
      "source": [
        "xgb_tuned = XGBRegressor(**xgb_cv_model.best_params_).fit(X_train, y_train)"
      ],
      "execution_count": 64,
      "outputs": [
        {
          "output_type": "stream",
          "text": [
            "[15:49:30] WARNING: /workspace/src/objective/regression_obj.cu:152: reg:linear is now deprecated in favor of reg:squarederror.\n"
          ],
          "name": "stdout"
        }
      ]
    },
    {
      "cell_type": "code",
      "metadata": {
        "id": "FMfgClrAMm_J",
        "colab_type": "code",
        "colab": {
          "base_uri": "https://localhost:8080/",
          "height": 34
        },
        "outputId": "1397ff60-6f3b-4b42-e7bd-5e58d6e02b1f"
      },
      "source": [
        "y_pred = xgb_tuned.predict(X_test)\n",
        "xgb_tuned_score = np.sqrt(mean_squared_error(y_test, y_pred))\n",
        "xgb_tuned_score"
      ],
      "execution_count": 65,
      "outputs": [
        {
          "output_type": "execute_result",
          "data": {
            "text/plain": [
              "17453482.084264208"
            ]
          },
          "metadata": {
            "tags": []
          },
          "execution_count": 65
        }
      ]
    },
    {
      "cell_type": "code",
      "metadata": {
        "id": "Z0_N4Bq-Mrei",
        "colab_type": "code",
        "colab": {
          "base_uri": "https://localhost:8080/",
          "height": 279
        },
        "outputId": "440198d4-f544-452f-c650-cf16f5073e27"
      },
      "source": [
        "Importance = pd.DataFrame({'Importance':xgb_tuned.feature_importances_*100}, \n",
        "                          index = cols)\n",
        "\n",
        "\n",
        "Importance.sort_values(by = 'Importance', \n",
        "                       axis = 0, \n",
        "                       ascending = True).plot(kind = 'barh', \n",
        "                                              color = 'r', )\n",
        "\n",
        "plt.xlabel('Variable Importance')\n",
        "plt.gca().legend_ = None"
      ],
      "execution_count": 66,
      "outputs": [
        {
          "output_type": "display_data",
          "data": {
            "image/png": "[encoded data removed]",
            "text/plain": [
              "<Figure size 432x288 with 1 Axes>"
            ]
          },
          "metadata": {
            "tags": [],
            "needs_background": "light"
          }
        }
      ]
    },
    {
      "cell_type": "code",
      "metadata": {
        "id": "NwYgbjSLNmgp",
        "colab_type": "code",
        "colab": {}
      },
      "source": [
        ""
      ],
      "execution_count": null,
      "outputs": []
    },
    {
      "cell_type": "markdown",
      "metadata": {
        "id": "CDG-YDaKNp6l",
        "colab_type": "text"
      },
      "source": [
        "# lgbm\n"
      ]
    },
    {
      "cell_type": "code",
      "metadata": {
        "id": "47sH4Cf-NsOv",
        "colab_type": "code",
        "colab": {}
      },
      "source": [
        "lgb_model = LGBMRegressor()"
      ],
      "execution_count": 67,
      "outputs": []
    },
    {
      "cell_type": "code",
      "metadata": {
        "id": "XMh5ZI0INuZW",
        "colab_type": "code",
        "colab": {}
      },
      "source": [
        "lgbm_params = {\"learning_rate\": [0.01, 0.1, 1],\n",
        "              \"n_estimators\": [200,1000,10000],\n",
        "              \"max_depth\": [2,5,10],\n",
        "              \"colsample_bytree\": [1,0.5,0.3]}"
      ],
      "execution_count": 68,
      "outputs": []
    },
    {
      "cell_type": "code",
      "metadata": {
        "id": "OAMBYYxGNvj3",
        "colab_type": "code",
        "colab": {
          "base_uri": "https://localhost:8080/",
          "height": 140
        },
        "outputId": "c604af7b-d79e-4489-e781-ea460c84ff6b"
      },
      "source": [
        "lgbm_cv_model = GridSearchCV(lgb_model, \n",
        "                             lgbm_params, \n",
        "                             cv = 10, \n",
        "                             n_jobs = -1, \n",
        "                             verbose =2).fit(X_train, y_train)"
      ],
      "execution_count": 69,
      "outputs": [
        {
          "output_type": "stream",
          "text": [
            "Fitting 10 folds for each of 81 candidates, totalling 810 fits\n"
          ],
          "name": "stdout"
        },
        {
          "output_type": "stream",
          "text": [
            "[Parallel(n_jobs=-1)]: Using backend LokyBackend with 2 concurrent workers.\n",
            "[Parallel(n_jobs=-1)]: Done  59 tasks      | elapsed:   30.0s\n",
            "[Parallel(n_jobs=-1)]: Done 180 tasks      | elapsed:  2.3min\n",
            "[Parallel(n_jobs=-1)]: Done 383 tasks      | elapsed:  4.5min\n",
            "[Parallel(n_jobs=-1)]: Done 666 tasks      | elapsed:  7.7min\n",
            "[Parallel(n_jobs=-1)]: Done 810 out of 810 | elapsed:  9.2min finished\n"
          ],
          "name": "stderr"
        }
      ]
    },
    {
      "cell_type": "code",
      "metadata": {
        "id": "0BdM9hiNNxXT",
        "colab_type": "code",
        "colab": {
          "base_uri": "https://localhost:8080/",
          "height": 87
        },
        "outputId": "1d719169-a06d-433c-f1ce-fbec9447bb62"
      },
      "source": [
        "lgbm_cv_model.best_params_"
      ],
      "execution_count": 70,
      "outputs": [
        {
          "output_type": "execute_result",
          "data": {
            "text/plain": [
              "{'colsample_bytree': 1,\n",
              " 'learning_rate': 0.01,\n",
              " 'max_depth': 2,\n",
              " 'n_estimators': 200}"
            ]
          },
          "metadata": {
            "tags": []
          },
          "execution_count": 70
        }
      ]
    },
    {
      "cell_type": "code",
      "metadata": {
        "id": "OvfnstFbNyuW",
        "colab_type": "code",
        "colab": {}
      },
      "source": [
        "lgbm_tuned = LGBMRegressor(learning_rate=0.01,\n",
        "              n_estimators=300,\n",
        "              max_depth=5,\n",
        "              colsample_bytree=1).fit(X_train, y_train)"
      ],
      "execution_count": 71,
      "outputs": []
    },
    {
      "cell_type": "code",
      "metadata": {
        "id": "kJtYaSGVN0QC",
        "colab_type": "code",
        "colab": {
          "base_uri": "https://localhost:8080/",
          "height": 34
        },
        "outputId": "c175755d-083a-4f7b-e249-1f90e9224a02"
      },
      "source": [
        "y_pred = lgbm_tuned.predict(X_test)\n",
        "lgbm_tuned_score = np.sqrt(mean_squared_error(y_test, y_pred))\n",
        "lgbm_tuned_score"
      ],
      "execution_count": 72,
      "outputs": [
        {
          "output_type": "execute_result",
          "data": {
            "text/plain": [
              "18805459.37889047"
            ]
          },
          "metadata": {
            "tags": []
          },
          "execution_count": 72
        }
      ]
    },
    {
      "cell_type": "code",
      "metadata": {
        "id": "oTn637_PN1Zz",
        "colab_type": "code",
        "colab": {
          "base_uri": "https://localhost:8080/",
          "height": 279
        },
        "outputId": "cf980459-f119-4898-f399-d1e8b2e953cd"
      },
      "source": [
        "Importance = pd.DataFrame({'Importance':lgbm_tuned.feature_importances_*100}, \n",
        "                          index = cols)\n",
        "\n",
        "\n",
        "Importance.sort_values(by = 'Importance', \n",
        "                       axis = 0, \n",
        "                       ascending = True).plot(kind = 'barh', \n",
        "                                              color = 'r', )\n",
        "\n",
        "plt.xlabel('Variable Importance')\n",
        "plt.gca().legend_ = None"
      ],
      "execution_count": 73,
      "outputs": [
        {
          "output_type": "display_data",
          "data": {
            "image/png": "[encoded data removed]",
            "text/plain": [
              "<Figure size 432x288 with 1 Axes>"
            ]
          },
          "metadata": {
            "tags": [],
            "needs_background": "light"
          }
        }
      ]
    },
    {
      "cell_type": "markdown",
      "metadata": {
        "id": "UBOumms7QJrP",
        "colab_type": "text"
      },
      "source": [
        "#catb"
      ]
    },
    {
      "cell_type": "code",
      "metadata": {
        "id": "aJK1c87sQFoM",
        "colab_type": "code",
        "colab": {}
      },
      "source": [
        "catb_model = CatBoostRegressor(verbose = False)"
      ],
      "execution_count": 74,
      "outputs": []
    },
    {
      "cell_type": "code",
      "metadata": {
        "id": "pYTFqyDjQOM7",
        "colab_type": "code",
        "colab": {}
      },
      "source": [
        "catb_params = {\"iterations\": [500,1000,10000],\n",
        "              \"learning_rate\": [0.01,0.1,1],\n",
        "              \"depth\": [2,6,10]}"
      ],
      "execution_count": 75,
      "outputs": []
    },
    {
      "cell_type": "code",
      "metadata": {
        "id": "WrkDhBLHQQG_",
        "colab_type": "code",
        "colab": {
          "base_uri": "https://localhost:8080/",
          "height": 142
        },
        "outputId": "ac1323f1-efdb-42ef-e3b0-af9867cdf8f8"
      },
      "source": [
        "catb_cv_model = GridSearchCV(catb_model, \n",
        "                           catb_params, \n",
        "                           cv = 2, \n",
        "                           n_jobs = -1, \n",
        "                           verbose = 2).fit(X_train, y_train)"
      ],
      "execution_count": 76,
      "outputs": [
        {
          "output_type": "stream",
          "text": [
            "Fitting 2 folds for each of 27 candidates, totalling 54 fits\n"
          ],
          "name": "stdout"
        },
        {
          "output_type": "stream",
          "text": [
            "[Parallel(n_jobs=-1)]: Using backend LokyBackend with 2 concurrent workers.\n",
            "/usr/local/lib/python3.6/dist-packages/joblib/externals/loky/process_executor.py:691: UserWarning: A worker stopped while some jobs were given to the executor. This can be caused by a too short worker timeout or by a memory leak.\n",
            "  \"timeout or by a memory leak.\", UserWarning\n",
            "[Parallel(n_jobs=-1)]: Done  37 tasks      | elapsed:  1.1min\n",
            "[Parallel(n_jobs=-1)]: Done  54 out of  54 | elapsed:  6.5min finished\n"
          ],
          "name": "stderr"
        }
      ]
    },
    {
      "cell_type": "code",
      "metadata": {
        "id": "xcj5uOUgQS4i",
        "colab_type": "code",
        "colab": {
          "base_uri": "https://localhost:8080/",
          "height": 34
        },
        "outputId": "1ada7880-3488-46b7-a845-93cd4d3880ca"
      },
      "source": [
        "catb_cv_model.best_params_"
      ],
      "execution_count": 77,
      "outputs": [
        {
          "output_type": "execute_result",
          "data": {
            "text/plain": [
              "{'depth': 2, 'iterations': 1000, 'learning_rate': 0.01}"
            ]
          },
          "metadata": {
            "tags": []
          },
          "execution_count": 77
        }
      ]
    },
    {
      "cell_type": "code",
      "metadata": {
        "id": "42DnYX0ZQUVi",
        "colab_type": "code",
        "colab": {}
      },
      "source": [
        "catb_tuned = CatBoostRegressor(iterations=670,\n",
        "              learning_rate=0.01,\n",
        "              depth=6,verbose=False).fit(X_train, y_train)"
      ],
      "execution_count": 78,
      "outputs": []
    },
    {
      "cell_type": "code",
      "metadata": {
        "id": "EUGFqhV1QV2A",
        "colab_type": "code",
        "colab": {
          "base_uri": "https://localhost:8080/",
          "height": 34
        },
        "outputId": "33e8552e-d2ca-433a-c437-35778eaa0eff"
      },
      "source": [
        "y_pred = catb_tuned.predict(X_test)\n",
        "catb_tuned_score = np.sqrt(mean_squared_error(y_test, y_pred))\n",
        "catb_tuned_score"
      ],
      "execution_count": 79,
      "outputs": [
        {
          "output_type": "execute_result",
          "data": {
            "text/plain": [
              "17870290.127289206"
            ]
          },
          "metadata": {
            "tags": []
          },
          "execution_count": 79
        }
      ]
    },
    {
      "cell_type": "markdown",
      "metadata": {
        "id": "9y0WLVjOQeN9",
        "colab_type": "text"
      },
      "source": [
        "# mlp"
      ]
    },
    {
      "cell_type": "code",
      "metadata": {
        "id": "TsQvjrFGQXKu",
        "colab_type": "code",
        "colab": {}
      },
      "source": [
        "mlp = MLPRegressor()"
      ],
      "execution_count": 80,
      "outputs": []
    },
    {
      "cell_type": "code",
      "metadata": {
        "id": "mYYPqzAXQYXE",
        "colab_type": "code",
        "colab": {}
      },
      "source": [
        "mlp_params = {\"alpha\": [0.1, 0.01, 0.02, 0.001, 0.0001], \n",
        "             \"hidden_layer_sizes\": [(10,20), (5,5), (100,100), (1000,100,10)]}"
      ],
      "execution_count": 81,
      "outputs": []
    },
    {
      "cell_type": "code",
      "metadata": {
        "id": "ONd2sMlKQal6",
        "colab_type": "code",
        "colab": {
          "base_uri": "https://localhost:8080/",
          "height": 160
        },
        "outputId": "c22d48a9-9cb8-4d49-e1e3-bfde2f0ca15b"
      },
      "source": [
        "mlp_cv_model = GridSearchCV(mlp, mlp_params, cv = 10, verbose = 2, n_jobs = -1).fit(X_train, y_train)"
      ],
      "execution_count": 82,
      "outputs": [
        {
          "output_type": "stream",
          "text": [
            "Fitting 10 folds for each of 20 candidates, totalling 200 fits\n"
          ],
          "name": "stdout"
        },
        {
          "output_type": "stream",
          "text": [
            "[Parallel(n_jobs=-1)]: Using backend LokyBackend with 2 concurrent workers.\n",
            "[Parallel(n_jobs=-1)]: Done  37 tasks      | elapsed:  1.4min\n",
            "[Parallel(n_jobs=-1)]: Done 158 tasks      | elapsed:  6.4min\n",
            "[Parallel(n_jobs=-1)]: Done 200 out of 200 | elapsed:  8.5min finished\n",
            "/usr/local/lib/python3.6/dist-packages/sklearn/neural_network/_multilayer_perceptron.py:571: ConvergenceWarning: Stochastic Optimizer: Maximum iterations (200) reached and the optimization hasn't converged yet.\n",
            "  % self.max_iter, ConvergenceWarning)\n"
          ],
          "name": "stderr"
        }
      ]
    },
    {
      "cell_type": "code",
      "metadata": {
        "id": "FUOpXZuwQkH-",
        "colab_type": "code",
        "colab": {
          "base_uri": "https://localhost:8080/",
          "height": 72
        },
        "outputId": "dbfc6175-9ebb-4161-b7e2-deeac3b06cff"
      },
      "source": [
        "mlp_tuned = MLPRegressor(**mlp_cv_model.best_params_).fit(X_train, y_train)"
      ],
      "execution_count": 83,
      "outputs": [
        {
          "output_type": "stream",
          "text": [
            "/usr/local/lib/python3.6/dist-packages/sklearn/neural_network/_multilayer_perceptron.py:571: ConvergenceWarning: Stochastic Optimizer: Maximum iterations (200) reached and the optimization hasn't converged yet.\n",
            "  % self.max_iter, ConvergenceWarning)\n"
          ],
          "name": "stderr"
        }
      ]
    },
    {
      "cell_type": "code",
      "metadata": {
        "id": "n2twwRFEQmu0",
        "colab_type": "code",
        "colab": {
          "base_uri": "https://localhost:8080/",
          "height": 34
        },
        "outputId": "96481e2e-6077-4443-9cef-4379c6cb6bad"
      },
      "source": [
        "y_pred = mlp_tuned.predict(X_test)\n",
        "mlp_tuned_score = np.sqrt(mean_squared_error(y_test, y_pred))\n",
        "mlp_tuned_score"
      ],
      "execution_count": 84,
      "outputs": [
        {
          "output_type": "execute_result",
          "data": {
            "text/plain": [
              "21217496.03643493"
            ]
          },
          "metadata": {
            "tags": []
          },
          "execution_count": 84
        }
      ]
    },
    {
      "cell_type": "code",
      "metadata": {
        "id": "UN6uizcTQnZz",
        "colab_type": "code",
        "colab": {
          "base_uri": "https://localhost:8080/",
          "height": 284
        },
        "outputId": "131ae127-596b-4b4f-bcbd-33e14578db91"
      },
      "source": [
        "index = [\"KNN_tuned\",\"SVR_tuned\",\"MLP_tuned\",\"CART_tuned\",\"RF_tuned\",\"GBM_tuned\",\"XGB_tuned\",\"LGBM_tuned\"]\n",
        "tuned_score_df = pd.DataFrame({\"Tuned Score\":[knn_tuned_score,svr_tuned_score,mlp_tuned_score,cart_tuned_score,\n",
        "                                              rf_tuned_score,gbm_tuned_score,xgb_tuned_score,lgbm_tuned_score]})\n",
        "tuned_score_df.index = index\n",
        "tuned_score_df"
      ],
      "execution_count": 85,
      "outputs": [
        {
          "output_type": "execute_result",
          "data": {
            "text/html": [
              "<div>\n",
              "<style scoped>\n",
              "    .dataframe tbody tr th:only-of-type {\n",
              "        vertical-align: middle;\n",
              "    }\n",
              "\n",
              "    .dataframe tbody tr th {\n",
              "        vertical-align: top;\n",
              "    }\n",
              "\n",
              "    .dataframe thead th {\n",
              "        text-align: right;\n",
              "    }\n",
              "</style>\n",
              "<table border=\"1\" class=\"dataframe\">\n",
              "  <thead>\n",
              "    <tr style=\"text-align: right;\">\n",
              "      <th></th>\n",
              "      <th>Tuned Score</th>\n",
              "    </tr>\n",
              "  </thead>\n",
              "  <tbody>\n",
              "    <tr>\n",
              "      <th>KNN_tuned</th>\n",
              "      <td>1.839825e+07</td>\n",
              "    </tr>\n",
              "    <tr>\n",
              "      <th>SVR_tuned</th>\n",
              "      <td>2.536985e+07</td>\n",
              "    </tr>\n",
              "    <tr>\n",
              "      <th>MLP_tuned</th>\n",
              "      <td>2.121750e+07</td>\n",
              "    </tr>\n",
              "    <tr>\n",
              "      <th>CART_tuned</th>\n",
              "      <td>1.861999e+07</td>\n",
              "    </tr>\n",
              "    <tr>\n",
              "      <th>RF_tuned</th>\n",
              "      <td>1.725879e+07</td>\n",
              "    </tr>\n",
              "    <tr>\n",
              "      <th>GBM_tuned</th>\n",
              "      <td>1.742211e+07</td>\n",
              "    </tr>\n",
              "    <tr>\n",
              "      <th>XGB_tuned</th>\n",
              "      <td>1.745348e+07</td>\n",
              "    </tr>\n",
              "    <tr>\n",
              "      <th>LGBM_tuned</th>\n",
              "      <td>1.880546e+07</td>\n",
              "    </tr>\n",
              "  </tbody>\n",
              "</table>\n",
              "</div>"
            ],
            "text/plain": [
              "             Tuned Score\n",
              "KNN_tuned   1.839825e+07\n",
              "SVR_tuned   2.536985e+07\n",
              "MLP_tuned   2.121750e+07\n",
              "CART_tuned  1.861999e+07\n",
              "RF_tuned    1.725879e+07\n",
              "GBM_tuned   1.742211e+07\n",
              "XGB_tuned   1.745348e+07\n",
              "LGBM_tuned  1.880546e+07"
            ]
          },
          "metadata": {
            "tags": []
          },
          "execution_count": 85
        }
      ]
    },
    {
      "cell_type": "code",
      "metadata": {
        "id": "g7s_sR3nVBtB",
        "colab_type": "code",
        "colab": {
          "base_uri": "https://localhost:8080/",
          "height": 34
        },
        "outputId": "2664e795-4e65-4d09-f14e-3dffd72e28a3"
      },
      "source": [
        "mydata = np.array([[11,10,81,15,15]])\n",
        "# mydata = scaler.fit_transform(mydata)\n",
        "mydata"
      ],
      "execution_count": 146,
      "outputs": [
        {
          "output_type": "execute_result",
          "data": {
            "text/plain": [
              "array([[11, 10, 81, 15, 15]])"
            ]
          },
          "metadata": {
            "tags": []
          },
          "execution_count": 146
        }
      ]
    },
    {
      "cell_type": "code",
      "metadata": {
        "id": "e6-WLxEjWp84",
        "colab_type": "code",
        "colab": {
          "base_uri": "https://localhost:8080/",
          "height": 34
        },
        "outputId": "02ff1cde-4ec8-49a6-b8de-03d98490be1d"
      },
      "source": [
        "pred = rf_model.predict(mydata)\n",
        "print(pred)"
      ],
      "execution_count": 147,
      "outputs": [
        {
          "output_type": "stream",
          "text": [
            "[53153192.75788996]\n"
          ],
          "name": "stdout"
        }
      ]
    },
    {
      "cell_type": "code",
      "metadata": {
        "id": "_fg30yUKgOh4",
        "colab_type": "code",
        "colab": {
          "base_uri": "https://localhost:8080/",
          "height": 34
        },
        "outputId": "31b3127f-e78b-42b0-f130-247d54a2f1ff"
      },
      "source": [
        "pred = pred * 1.027 * 1.025 * 1.018 * 1.018\n",
        "pred"
      ],
      "execution_count": 148,
      "outputs": [
        {
          "output_type": "execute_result",
          "data": {
            "text/plain": [
              "array([57985475.30917104])"
            ]
          },
          "metadata": {
            "tags": []
          },
          "execution_count": 148
        }
      ]
    },
    {
      "cell_type": "code",
      "metadata": {
        "id": "e9ab0pMwZJIS",
        "colab_type": "code",
        "colab": {
          "base_uri": "https://localhost:8080/",
          "height": 862
        },
        "outputId": "2af0eede-eea7-4887-b7dd-9da2c7147d5a"
      },
      "source": [
        "from sklearn.metrics import accuracy_score\n",
        "from sklearn.ensemble import RandomForestClassifier\n",
        "from sklearn.model_selection import train_test_split\n",
        "\n",
        "data = sal.iloc[:, 1:6]\n",
        "target = sal.iloc[:, 0]\n",
        "print(data)\n",
        "print(target)\n",
        "\n",
        "\n",
        "X_train, X_test, y_train, y_test = train_test_split(data, target,\n",
        "                                                    train_size=0.7, test_size=0.3)\n",
        "rfclf = RandomForestClassifier()\n",
        "rfclf.fit(X_train,y_train)\n",
        "pred = rfclf.predict(X_test)\n",
        "print('정확도 : ', accuracy_score(y_test, pred))"
      ],
      "execution_count": 145,
      "outputs": [
        {
          "output_type": "stream",
          "text": [
            "      goal  assist     sh  int  drib\n",
            "0       34      12  194.0   62    39\n",
            "1       25      20  154.0   61    37\n",
            "2        5       3   73.0   21    35\n",
            "3       36      13  167.0   66    35\n",
            "4        3       3   50.0   21    29\n",
            "...    ...     ...    ...  ...   ...\n",
            "1180     0       1   38.5   25     0\n",
            "1181     2       3   14.3   27     0\n",
            "1182     1       3   13.3   29     0\n",
            "1183     4       3   29.0   30     0\n",
            "1184     1       3   14.7   31     0\n",
            "\n",
            "[1185 rows x 5 columns]\n",
            "0       1.538937e+08\n",
            "1       9.239972e+07\n",
            "2       2.099619e+07\n",
            "3       1.259771e+08\n",
            "4       8.398475e+06\n",
            "            ...     \n",
            "1180    4.199237e+05\n",
            "1181    2.939466e+07\n",
            "1182    9.899970e+06\n",
            "1183    8.549647e+06\n",
            "1184    1.282447e+07\n",
            "Name: mvpr, Length: 1185, dtype: float64\n"
          ],
          "name": "stdout"
        },
        {
          "output_type": "error",
          "ename": "ValueError",
          "evalue": "ignored",
          "traceback": [
            "\u001b[0;31m---------------------------------------------------------------------------\u001b[0m",
            "\u001b[0;31mValueError\u001b[0m                                Traceback (most recent call last)",
            "\u001b[0;32m<ipython-input-145-211d40e39016>\u001b[0m in \u001b[0;36m<module>\u001b[0;34m()\u001b[0m\n\u001b[1;32m     12\u001b[0m                                                     train_size=0.7, test_size=0.3)\n\u001b[1;32m     13\u001b[0m \u001b[0mrfclf\u001b[0m \u001b[0;34m=\u001b[0m \u001b[0mRandomForestClassifier\u001b[0m\u001b[0;34m(\u001b[0m\u001b[0;34m)\u001b[0m\u001b[0;34m\u001b[0m\u001b[0;34m\u001b[0m\u001b[0m\n\u001b[0;32m---> 14\u001b[0;31m \u001b[0mrfclf\u001b[0m\u001b[0;34m.\u001b[0m\u001b[0mfit\u001b[0m\u001b[0;34m(\u001b[0m\u001b[0mX_train\u001b[0m\u001b[0;34m,\u001b[0m\u001b[0my_train\u001b[0m\u001b[0;34m)\u001b[0m\u001b[0;34m\u001b[0m\u001b[0;34m\u001b[0m\u001b[0m\n\u001b[0m\u001b[1;32m     15\u001b[0m \u001b[0mpred\u001b[0m \u001b[0;34m=\u001b[0m \u001b[0mrfclf\u001b[0m\u001b[0;34m.\u001b[0m\u001b[0mpredict\u001b[0m\u001b[0;34m(\u001b[0m\u001b[0mX_test\u001b[0m\u001b[0;34m)\u001b[0m\u001b[0;34m\u001b[0m\u001b[0;34m\u001b[0m\u001b[0m\n\u001b[1;32m     16\u001b[0m \u001b[0mprint\u001b[0m\u001b[0;34m(\u001b[0m\u001b[0;34m'정확도 : '\u001b[0m\u001b[0;34m,\u001b[0m \u001b[0maccuracy_score\u001b[0m\u001b[0;34m(\u001b[0m\u001b[0my_test\u001b[0m\u001b[0;34m,\u001b[0m \u001b[0mpred\u001b[0m\u001b[0;34m)\u001b[0m\u001b[0;34m)\u001b[0m\u001b[0;34m\u001b[0m\u001b[0;34m\u001b[0m\u001b[0m\n",
            "\u001b[0;32m/usr/local/lib/python3.6/dist-packages/sklearn/ensemble/_forest.py\u001b[0m in \u001b[0;36mfit\u001b[0;34m(self, X, y, sample_weight)\u001b[0m\n\u001b[1;32m    319\u001b[0m         \u001b[0mself\u001b[0m\u001b[0;34m.\u001b[0m\u001b[0mn_outputs_\u001b[0m \u001b[0;34m=\u001b[0m \u001b[0my\u001b[0m\u001b[0;34m.\u001b[0m\u001b[0mshape\u001b[0m\u001b[0;34m[\u001b[0m\u001b[0;36m1\u001b[0m\u001b[0;34m]\u001b[0m\u001b[0;34m\u001b[0m\u001b[0;34m\u001b[0m\u001b[0m\n\u001b[1;32m    320\u001b[0m \u001b[0;34m\u001b[0m\u001b[0m\n\u001b[0;32m--> 321\u001b[0;31m         \u001b[0my\u001b[0m\u001b[0;34m,\u001b[0m \u001b[0mexpanded_class_weight\u001b[0m \u001b[0;34m=\u001b[0m \u001b[0mself\u001b[0m\u001b[0;34m.\u001b[0m\u001b[0m_validate_y_class_weight\u001b[0m\u001b[0;34m(\u001b[0m\u001b[0my\u001b[0m\u001b[0;34m)\u001b[0m\u001b[0;34m\u001b[0m\u001b[0;34m\u001b[0m\u001b[0m\n\u001b[0m\u001b[1;32m    322\u001b[0m \u001b[0;34m\u001b[0m\u001b[0m\n\u001b[1;32m    323\u001b[0m         \u001b[0;32mif\u001b[0m \u001b[0mgetattr\u001b[0m\u001b[0;34m(\u001b[0m\u001b[0my\u001b[0m\u001b[0;34m,\u001b[0m \u001b[0;34m\"dtype\"\u001b[0m\u001b[0;34m,\u001b[0m \u001b[0;32mNone\u001b[0m\u001b[0;34m)\u001b[0m \u001b[0;34m!=\u001b[0m \u001b[0mDOUBLE\u001b[0m \u001b[0;32mor\u001b[0m \u001b[0;32mnot\u001b[0m \u001b[0my\u001b[0m\u001b[0;34m.\u001b[0m\u001b[0mflags\u001b[0m\u001b[0;34m.\u001b[0m\u001b[0mcontiguous\u001b[0m\u001b[0;34m:\u001b[0m\u001b[0;34m\u001b[0m\u001b[0;34m\u001b[0m\u001b[0m\n",
            "\u001b[0;32m/usr/local/lib/python3.6/dist-packages/sklearn/ensemble/_forest.py\u001b[0m in \u001b[0;36m_validate_y_class_weight\u001b[0;34m(self, y)\u001b[0m\n\u001b[1;32m    539\u001b[0m \u001b[0;34m\u001b[0m\u001b[0m\n\u001b[1;32m    540\u001b[0m     \u001b[0;32mdef\u001b[0m \u001b[0m_validate_y_class_weight\u001b[0m\u001b[0;34m(\u001b[0m\u001b[0mself\u001b[0m\u001b[0;34m,\u001b[0m \u001b[0my\u001b[0m\u001b[0;34m)\u001b[0m\u001b[0;34m:\u001b[0m\u001b[0;34m\u001b[0m\u001b[0;34m\u001b[0m\u001b[0m\n\u001b[0;32m--> 541\u001b[0;31m         \u001b[0mcheck_classification_targets\u001b[0m\u001b[0;34m(\u001b[0m\u001b[0my\u001b[0m\u001b[0;34m)\u001b[0m\u001b[0;34m\u001b[0m\u001b[0;34m\u001b[0m\u001b[0m\n\u001b[0m\u001b[1;32m    542\u001b[0m \u001b[0;34m\u001b[0m\u001b[0m\n\u001b[1;32m    543\u001b[0m         \u001b[0my\u001b[0m \u001b[0;34m=\u001b[0m \u001b[0mnp\u001b[0m\u001b[0;34m.\u001b[0m\u001b[0mcopy\u001b[0m\u001b[0;34m(\u001b[0m\u001b[0my\u001b[0m\u001b[0;34m)\u001b[0m\u001b[0;34m\u001b[0m\u001b[0;34m\u001b[0m\u001b[0m\n",
            "\u001b[0;32m/usr/local/lib/python3.6/dist-packages/sklearn/utils/multiclass.py\u001b[0m in \u001b[0;36mcheck_classification_targets\u001b[0;34m(y)\u001b[0m\n\u001b[1;32m    167\u001b[0m     if y_type not in ['binary', 'multiclass', 'multiclass-multioutput',\n\u001b[1;32m    168\u001b[0m                       'multilabel-indicator', 'multilabel-sequences']:\n\u001b[0;32m--> 169\u001b[0;31m         \u001b[0;32mraise\u001b[0m \u001b[0mValueError\u001b[0m\u001b[0;34m(\u001b[0m\u001b[0;34m\"Unknown label type: %r\"\u001b[0m \u001b[0;34m%\u001b[0m \u001b[0my_type\u001b[0m\u001b[0;34m)\u001b[0m\u001b[0;34m\u001b[0m\u001b[0;34m\u001b[0m\u001b[0m\n\u001b[0m\u001b[1;32m    170\u001b[0m \u001b[0;34m\u001b[0m\u001b[0m\n\u001b[1;32m    171\u001b[0m \u001b[0;34m\u001b[0m\u001b[0m\n",
            "\u001b[0;31mValueError\u001b[0m: Unknown label type: 'continuous'"
          ]
        }
      ]
    },
    {
      "cell_type": "code",
      "metadata": {
        "id": "m91fmbQWf48P",
        "colab_type": "code",
        "colab": {}
      },
      "source": [
        ""
      ],
      "execution_count": null,
      "outputs": []
    }
  ]
}